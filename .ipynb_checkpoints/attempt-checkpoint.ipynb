{
 "cells": [
  {
   "cell_type": "code",
   "execution_count": 1,
   "id": "cee7703f",
   "metadata": {},
   "outputs": [],
   "source": [
    "import pandas as pd"
   ]
  },
  {
   "cell_type": "code",
   "execution_count": 33,
   "id": "c9a4c0a7",
   "metadata": {},
   "outputs": [
    {
     "name": "stdout",
     "output_type": "stream",
     "text": [
      "11\n",
      "Enter Support:-50\n",
      "Given Support is:- 50\n",
      "Enter Confidence:-50\n",
      "Given Confidence is:- 50\n",
      "dict {'A': 11, ' C': 7, ' E': 8}\n"
     ]
    },
    {
     "data": {
      "text/plain": [
       "[{'A'}, {' C'}, {' E'}]"
      ]
     },
     "execution_count": 33,
     "metadata": {},
     "output_type": "execute_result"
    }
   ],
   "source": [
    "records=[]\n",
    "final_lst=[]\n",
    "dict={}\n",
    "dict1={}\n",
    "data = pd.read_csv(\"Data1.csv\")\n",
    "transaction_length = len(data)\n",
    "def read_data():\n",
    "    transaction_data = data.Transactions\n",
    "    for i in transaction_data:\n",
    "        comma_separated = i.split(\",\")\n",
    "        for j in comma_separated:\n",
    "            records.append(j)\n",
    "    return records\n",
    "   \n",
    "def count_occurrences():\n",
    "    a = read_data()\n",
    "    #print(a)\n",
    "    for k in records:\n",
    "        count = 0\n",
    "        for l in records:\n",
    "            if(k==l):\n",
    "                count+=1\n",
    "        dict.update({k:count})\n",
    "    #print(dict)\n",
    "    return dict\n",
    "    \n",
    "def calc_support():\n",
    "    count_occurrences()\n",
    "    for m in dict:\n",
    "        occurrences = (dict.get(m))\n",
    "        #print(\"occ\",occurrences)\n",
    "        sup = (occurrences/transaction_length)*100\n",
    "        if sup>=support:\n",
    "            dict1.update({m:occurrences})\n",
    "    print(\"dict\",dict1)\n",
    "    return dict1\n",
    "\n",
    "def final_list():\n",
    "    calc_support()\n",
    "    for n in dict1:\n",
    "        final_lst.append({n})\n",
    "    #print(\"f_l\",final_lst)\n",
    "    return final_lst\n",
    "            \n",
    "print(transaction_length)         \n",
    "support = int(input(\"Enter Support:-\"))\n",
    "print(\"Given Support is:-\",support)\n",
    "confidence = int(input(\"Enter Confidence:-\"))\n",
    "print(\"Given Confidence is:-\",confidence)\n",
    "final_list()"
   ]
  },
  {
   "cell_type": "code",
   "execution_count": null,
   "id": "b6dd492b",
   "metadata": {},
   "outputs": [],
   "source": []
  },
  {
   "cell_type": "code",
   "execution_count": null,
   "id": "3588a949",
   "metadata": {},
   "outputs": [],
   "source": []
  }
 ],
 "metadata": {
  "kernelspec": {
   "display_name": "Python 3",
   "language": "python",
   "name": "python3"
  },
  "language_info": {
   "codemirror_mode": {
    "name": "ipython",
    "version": 3
   },
   "file_extension": ".py",
   "mimetype": "text/x-python",
   "name": "python",
   "nbconvert_exporter": "python",
   "pygments_lexer": "ipython3",
   "version": "3.8.8"
  }
 },
 "nbformat": 4,
 "nbformat_minor": 5
}
