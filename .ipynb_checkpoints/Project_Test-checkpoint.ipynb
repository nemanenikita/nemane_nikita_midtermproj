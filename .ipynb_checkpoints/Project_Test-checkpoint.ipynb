{
 "cells": [
  {
   "cell_type": "code",
   "execution_count": 80,
   "id": "260bbab0",
   "metadata": {},
   "outputs": [],
   "source": [
    "import pandas as pd\n",
    "from collections import Counter"
   ]
  },
  {
   "cell_type": "code",
   "execution_count": 106,
   "id": "eaac2de3",
   "metadata": {},
   "outputs": [
    {
     "name": "stdout",
     "output_type": "stream",
     "text": [
      "len 11\n",
      "0           A, B, C\n",
      "1           A, B, C\n",
      "2        A, B, C, D\n",
      "3     A, B, C, D, E\n",
      "4        A, B, D, E\n",
      "5           A, D, E\n",
      "6              A, E\n",
      "7              A, E\n",
      "8           A, C, E\n",
      "9           A, C, E\n",
      "10          A, C, E\n",
      "Name: Transactions, dtype: object\n",
      "{'A': 11, ' B': 5, ' C': 7, ' D': 4, ' E': 8}\n",
      "[{'A'}, {' C'}, {' E'}]\n",
      "{'A': 11, ' C': 7, ' E': 8}\n"
     ]
    }
   ],
   "source": [
    "data = pd.read_csv(\"Data1.csv\")\n",
    "data_length = len(data)\n",
    "#print(data)\n",
    "print(\"len\",data_length)\n",
    "transaction_data = data.Transactions\n",
    "print(transaction_data)\n",
    "support = 50\n",
    "confidence = 50\n",
    "records = []\n",
    "dict={}\n",
    "dict1={}\n",
    "final_list=[]\n",
    "for i in transaction_data:\n",
    "    #print(i)\n",
    "    comma_separated = i.split(\",\")\n",
    "    #print(comma_separated)\n",
    "    for j in comma_separated:\n",
    "        records.append(j)\n",
    "        #Counter(records)\n",
    "for k in records:\n",
    "    count = 0\n",
    "    #print(\"k\",k)\n",
    "    for l in records:\n",
    "        #print(\"l\",l)\n",
    "        if(k==l):\n",
    "            count+=1\n",
    "    dict.update({k:count})\n",
    "print(dict)\n",
    "for m in dict:\n",
    "    n=(dict.get(m))\n",
    "    #print(n)\n",
    "    sup = (n/data_length)*100\n",
    "    #print(sup)\n",
    "    if sup>=support:\n",
    "        dict1.update({m:n})\n",
    "for o in dict1:\n",
    "    final_list.append({o})\n",
    "print(final_list)\n",
    "print(dict1)          \n",
    "         \n",
    "\n",
    "            \n",
    "            \n",
    "        \n",
    "            \n",
    "            \n",
    "            \n",
    "#print(records)\n",
    "#print( Counter(records))\n",
    "#print(\"len\",len(records))\n",
    "   \n",
    "    \n"
   ]
  },
  {
   "cell_type": "raw",
   "id": "3774530a",
   "metadata": {},
   "source": []
  }
 ],
 "metadata": {
  "kernelspec": {
   "display_name": "Python 3",
   "language": "python",
   "name": "python3"
  },
  "language_info": {
   "codemirror_mode": {
    "name": "ipython",
    "version": 3
   },
   "file_extension": ".py",
   "mimetype": "text/x-python",
   "name": "python",
   "nbconvert_exporter": "python",
   "pygments_lexer": "ipython3",
   "version": "3.8.8"
  }
 },
 "nbformat": 4,
 "nbformat_minor": 5
}
